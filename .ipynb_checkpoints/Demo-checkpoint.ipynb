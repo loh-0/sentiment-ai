{
 "cells": [
  {
   "cell_type": "code",
   "execution_count": 9,
   "id": "b77bd092-629a-4f5d-a865-1813f6a3da6d",
   "metadata": {},
   "outputs": [
    {
     "name": "stdout",
     "output_type": "stream",
     "text": [
      "Polarity: 0.0\n",
      "Subjectivity: 0.0\n"
     ]
    }
   ],
   "source": [
    "from textblob import TextBlob\n",
    "\n",
    "# Example text\n",
    "text = \"I feel overwhelmed and hopeless. Nothing is helping.\"\n",
    "\n",
    "# Create TextBlob object\n",
    "blob = TextBlob(text)\n",
    "\n",
    "# Sentiment results\n",
    "print(\"Polarity:\", blob.sentiment.polarity)       # -1 (very negative) to +1 (very positive)\n",
    "print(\"Subjectivity:\", blob.sentiment.subjectivity) # 0 (objective) to 1 (subjective)\n"
   ]
  },
  {
   "cell_type": "code",
   "execution_count": 5,
   "id": "a962c1fa-167f-47bd-8345-7454dba3d104",
   "metadata": {},
   "outputs": [
    {
     "name": "stdout",
     "output_type": "stream",
     "text": [
      "Collecting textblob\n",
      "  Downloading textblob-0.19.0-py3-none-any.whl.metadata (4.4 kB)\n",
      "Collecting nltk>=3.9 (from textblob)\n",
      "  Downloading nltk-3.9.1-py3-none-any.whl.metadata (2.9 kB)\n",
      "Requirement already satisfied: click in c:\\users\\lohit.desktop-1i3rto2\\anaconda3\\lib\\site-packages (from nltk>=3.9->textblob) (8.1.7)\n",
      "Requirement already satisfied: joblib in c:\\users\\lohit.desktop-1i3rto2\\anaconda3\\lib\\site-packages (from nltk>=3.9->textblob) (1.4.2)\n",
      "Requirement already satisfied: regex>=2021.8.3 in c:\\users\\lohit.desktop-1i3rto2\\anaconda3\\lib\\site-packages (from nltk>=3.9->textblob) (2023.10.3)\n",
      "Requirement already satisfied: tqdm in c:\\users\\lohit.desktop-1i3rto2\\anaconda3\\lib\\site-packages (from nltk>=3.9->textblob) (4.66.4)\n",
      "Requirement already satisfied: colorama in c:\\users\\lohit.desktop-1i3rto2\\anaconda3\\lib\\site-packages (from click->nltk>=3.9->textblob) (0.4.6)\n",
      "Downloading textblob-0.19.0-py3-none-any.whl (624 kB)\n",
      "   ---------------------------------------- 0.0/624.3 kB ? eta -:--:--\n",
      "   - -------------------------------------- 30.7/624.3 kB 1.3 MB/s eta 0:00:01\n",
      "   --------------- ------------------------ 235.5/624.3 kB 3.6 MB/s eta 0:00:01\n",
      "   ---------------------------------------  614.4/624.3 kB 5.5 MB/s eta 0:00:01\n",
      "   ---------------------------------------- 624.3/624.3 kB 4.9 MB/s eta 0:00:00\n",
      "Downloading nltk-3.9.1-py3-none-any.whl (1.5 MB)\n",
      "   ---------------------------------------- 0.0/1.5 MB ? eta -:--:--\n",
      "   ------------ --------------------------- 0.5/1.5 MB 15.2 MB/s eta 0:00:01\n",
      "   ----------------------------- ---------- 1.1/1.5 MB 13.9 MB/s eta 0:00:01\n",
      "   ---------------------------------------  1.5/1.5 MB 13.7 MB/s eta 0:00:01\n",
      "   ---------------------------------------- 1.5/1.5 MB 12.0 MB/s eta 0:00:00\n",
      "Installing collected packages: nltk, textblob\n",
      "  Attempting uninstall: nltk\n",
      "    Found existing installation: nltk 3.8.1\n",
      "    Uninstalling nltk-3.8.1:\n",
      "      Successfully uninstalled nltk-3.8.1\n",
      "Successfully installed nltk-3.9.1 textblob-0.19.0\n",
      "Finished.\n"
     ]
    },
    {
     "name": "stderr",
     "output_type": "stream",
     "text": [
      "[nltk_data] Downloading package brown to C:\\Users\\Lohit.DESKTOP-\n",
      "[nltk_data]     1I3RTO2\\AppData\\Roaming\\nltk_data...\n",
      "[nltk_data]   Unzipping corpora\\brown.zip.\n",
      "[nltk_data] Downloading package punkt_tab to C:\\Users\\Lohit.DESKTOP-\n",
      "[nltk_data]     1I3RTO2\\AppData\\Roaming\\nltk_data...\n",
      "[nltk_data]   Unzipping tokenizers\\punkt_tab.zip.\n",
      "[nltk_data] Downloading package wordnet to C:\\Users\\Lohit.DESKTOP-\n",
      "[nltk_data]     1I3RTO2\\AppData\\Roaming\\nltk_data...\n",
      "[nltk_data] Downloading package averaged_perceptron_tagger_eng to C:\\U\n",
      "[nltk_data]     sers\\Lohit.DESKTOP-\n",
      "[nltk_data]     1I3RTO2\\AppData\\Roaming\\nltk_data...\n",
      "[nltk_data]   Unzipping taggers\\averaged_perceptron_tagger_eng.zip.\n",
      "[nltk_data] Downloading package conll2000 to C:\\Users\\Lohit.DESKTOP-\n",
      "[nltk_data]     1I3RTO2\\AppData\\Roaming\\nltk_data...\n",
      "[nltk_data]   Unzipping corpora\\conll2000.zip.\n",
      "[nltk_data] Downloading package movie_reviews to C:\\Users\\Lohit.DESKTO\n",
      "[nltk_data]     P-1I3RTO2\\AppData\\Roaming\\nltk_data...\n",
      "[nltk_data]   Unzipping corpora\\movie_reviews.zip.\n"
     ]
    }
   ],
   "source": [
    "!pip install textblob\n",
    "!python -m textblob.download_corpora\n"
   ]
  },
  {
   "cell_type": "code",
   "execution_count": 15,
   "id": "7adf948f-66e2-4956-a480-83b489b60730",
   "metadata": {},
   "outputs": [
    {
     "name": "stdout",
     "output_type": "stream",
     "text": [
      "Polarity: -0.5\n",
      "Subjectivity: 1.0\n"
     ]
    }
   ],
   "source": [
    "from textblob import TextBlob\n",
    "\n",
    "# Example text\n",
    "text = \"I feel hopeless, sad and depressed. Nothing is working.\"\n",
    "\n",
    "# Create TextBlob object\n",
    "blob = TextBlob(text)\n",
    "\n",
    "# Sentiment results\n",
    "print(\"Polarity:\", blob.sentiment.polarity)       # -1 (very negative) to +1 (very positive)\n",
    "print(\"Subjectivity:\", blob.sentiment.subjectivity) # 0 (objective) to 1 (subjective)\n"
   ]
  },
  {
   "cell_type": "code",
   "execution_count": 17,
   "id": "d8ce83c1-3497-429d-913f-5daafa029317",
   "metadata": {},
   "outputs": [
    {
     "name": "stdout",
     "output_type": "stream",
     "text": [
      "1. I'm feeling okay today, just tired.\n",
      "   → Polarity: 0.05, Subjectivity: 0.60\n",
      "\n",
      "2. Everything is falling apart. I can’t cope anymore.\n",
      "   → Polarity: 0.00, Subjectivity: 0.00\n",
      "\n",
      "3. I think I'm getting better slowly, thanks for checking in.\n",
      "   → Polarity: 0.35, Subjectivity: 0.35\n",
      "\n",
      "4. Nobody listens. I feel invisible.\n",
      "   → Polarity: 0.00, Subjectivity: 0.00\n",
      "\n",
      "5. I want to disappear. What's the point of anything?\n",
      "   → Polarity: 0.00, Subjectivity: 0.00\n",
      "\n",
      "6. I’m doing great! Therapy has really helped.\n",
      "   → Polarity: 0.60, Subjectivity: 0.47\n",
      "\n",
      "7. I’m not sure what I need, but I’m overwhelmed.\n",
      "   → Polarity: -0.25, Subjectivity: 0.89\n",
      "\n",
      "8. This week was tough, but I made it through.\n",
      "   → Polarity: -0.39, Subjectivity: 0.83\n",
      "\n",
      "9. I can't stop crying. Everything feels heavy.\n",
      "   → Polarity: -0.20, Subjectivity: 0.55\n",
      "\n",
      "10. I'm just numb. Not sad, not happy, just... nothing.\n",
      "   → Polarity: -0.25, Subjectivity: 1.00\n",
      "\n"
     ]
    }
   ],
   "source": [
    "\n",
    "# Sample mental health–related texts (simulate incoming user chats)\n",
    "texts = [\n",
    "    \"I'm feeling okay today, just tired.\",\n",
    "    \"Everything is falling apart. I can’t cope anymore.\",\n",
    "    \"I think I'm getting better slowly, thanks for checking in.\",\n",
    "    \"Nobody listens. I feel invisible.\",\n",
    "    \"I want to disappear. What's the point of anything?\",\n",
    "    \"I’m doing great! Therapy has really helped.\",\n",
    "    \"I’m not sure what I need, but I’m overwhelmed.\",\n",
    "    \"This week was tough, but I made it through.\",\n",
    "    \"I can't stop crying. Everything feels heavy.\",\n",
    "    \"I'm just numb. Not sad, not happy, just... nothing.\"\n",
    "]\n",
    "\n",
    "# Analyse each text\n",
    "for i, text in enumerate(texts, 1):\n",
    "    blob = TextBlob(text)\n",
    "    polarity = blob.sentiment.polarity\n",
    "    subjectivity = blob.sentiment.subjectivity\n",
    "    print(f\"{i}. {text}\")\n",
    "    print(f\"   → Polarity: {polarity:.2f}, Subjectivity: {subjectivity:.2f}\\n\")"
   ]
  },
  {
   "cell_type": "markdown",
   "id": "99665955-7a21-4b2e-ae46-5c0599589b3e",
   "metadata": {},
   "source": [
    "Clearly there's some drawbacks here since number 2 has 0 polarity"
   ]
  },
  {
   "cell_type": "code",
   "execution_count": 22,
   "id": "cd776ae3-6951-47fc-8183-6951f4f0ab66",
   "metadata": {},
   "outputs": [],
   "source": [
    "!pip install transformers --quiet\n"
   ]
  },
  {
   "cell_type": "code",
   "execution_count": 28,
   "id": "1e765901-351d-4337-83b0-47d5252bff9d",
   "metadata": {},
   "outputs": [
    {
     "name": "stderr",
     "output_type": "stream",
     "text": [
      "Device set to use cpu\n"
     ]
    }
   ],
   "source": [
    "from transformers import pipeline\n",
    "\n",
    "# Load emotion detection model\n",
    "emotion_classifier = pipeline(\n",
    "    \"text-classification\",\n",
    "    model=\"j-hartmann/emotion-english-distilroberta-base\",\n",
    "    return_all_scores=True\n",
    ")"
   ]
  },
  {
   "cell_type": "code",
   "execution_count": 30,
   "id": "17dad7a2-def1-4bef-aa1a-0b678393bbbc",
   "metadata": {},
   "outputs": [],
   "source": [
    "# Suicide trigger words\n",
    "SUICIDE_KEYWORDS = [\n",
    "    \"kill myself\", \"want to die\", \"end it all\", \n",
    "    \"don't want to live\", \"suicide\", \"i'm done\", \"ending my life\"\n",
    "]\n",
    "\n",
    "def contains_suicide_phrase(text):\n",
    "    text = text.lower()\n",
    "    return any(phrase in text for phrase in SUICIDE_KEYWORDS)\n",
    "\n",
    "def classify_severity(text, emotions):\n",
    "    emotions = {e['label']: e['score'] for e in emotions}\n",
    "    sadness = emotions.get(\"sadness\", 0)\n",
    "    fear = emotions.get(\"fear\", 0)\n",
    "\n",
    "    if contains_suicide_phrase(text):\n",
    "        return \"🔴 Very Severe (Suicide Risk)\"\n",
    "\n",
    "    if sadness > 0.7 or fear > 0.6:\n",
    "        return \"🔴 Very Severe\"\n",
    "    elif sadness > 0.5 or fear > 0.4:\n",
    "        return \"🟠 Severe\"\n",
    "    elif sadness > 0.3 or fear > 0.2:\n",
    "        return \"🟡 Moderate\"\n",
    "    else:\n",
    "        return \"🟢 Mild\"\n"
   ]
  },
  {
   "cell_type": "code",
   "execution_count": 32,
   "id": "371b368d-319d-4cca-a97b-19fbffe3ebb0",
   "metadata": {},
   "outputs": [
    {
     "name": "stdout",
     "output_type": "stream",
     "text": [
      "1. I'm feeling okay today, just tired.\n",
      "   → Severity: 🟢 Mild\n",
      "   → Top Emotions: neutral (0.36), joy (0.32)\n",
      "\n",
      "2. Everything is falling apart. I can’t cope anymore.\n",
      "   → Severity: 🔴 Very Severe\n",
      "   → Top Emotions: sadness (0.94), fear (0.03)\n",
      "\n",
      "3. I think I'm getting better slowly.\n",
      "   → Severity: 🟢 Mild\n",
      "   → Top Emotions: neutral (0.84), joy (0.09)\n",
      "\n",
      "4. Nobody listens. I feel invisible.\n",
      "   → Severity: 🟡 Moderate\n",
      "   → Top Emotions: sadness (0.45), disgust (0.25)\n",
      "\n",
      "5. I want to die. Please help me.\n",
      "   → Severity: 🔴 Very Severe (Suicide Risk)\n",
      "   → Top Emotions: sadness (0.92), fear (0.04)\n",
      "\n",
      "6. Therapy is helping me slowly regain control.\n",
      "   → Severity: 🟢 Mild\n",
      "   → Top Emotions: neutral (0.62), joy (0.13)\n",
      "\n",
      "7. I'm so tired of life. I’m done.\n",
      "   → Severity: 🔴 Very Severe\n",
      "   → Top Emotions: sadness (0.92), neutral (0.03)\n",
      "\n",
      "8. Just a rough day. I’ll be fine.\n",
      "   → Severity: 🟡 Moderate\n",
      "   → Top Emotions: neutral (0.49), sadness (0.36)\n",
      "\n"
     ]
    }
   ],
   "source": [
    "texts = [\n",
    "    \"I'm feeling okay today, just tired.\",\n",
    "    \"Everything is falling apart. I can’t cope anymore.\",\n",
    "    \"I think I'm getting better slowly.\",\n",
    "    \"Nobody listens. I feel invisible.\",\n",
    "    \"I want to die. Please help me.\",\n",
    "    \"Therapy is helping me slowly regain control.\",\n",
    "    \"I'm so tired of life. I’m done.\",\n",
    "    \"Just a rough day. I’ll be fine.\",\n",
    "]\n",
    "\n",
    "for i, text in enumerate(texts, 1):\n",
    "    emotion_scores = emotion_classifier(text)[0]\n",
    "    severity = classify_severity(text, emotion_scores)\n",
    "    \n",
    "    # Get top emotions\n",
    "    top_emotions = sorted(emotion_scores, key=lambda x: x['score'], reverse=True)[:2]\n",
    "    emo_str = \", \".join([f\"{e['label']} ({e['score']:.2f})\" for e in top_emotions])\n",
    "    \n",
    "    print(f\"{i}. {text}\")\n",
    "    print(f\"   → Severity: {severity}\")\n",
    "    print(f\"   → Top Emotions: {emo_str}\\n\")\n"
   ]
  },
  {
   "cell_type": "code",
   "execution_count": null,
   "id": "b308f429-eec6-489e-97cb-919b476aea6b",
   "metadata": {},
   "outputs": [],
   "source": []
  }
 ],
 "metadata": {
  "kernelspec": {
   "display_name": "Python 3 (ipykernel)",
   "language": "python",
   "name": "python3"
  },
  "language_info": {
   "codemirror_mode": {
    "name": "ipython",
    "version": 3
   },
   "file_extension": ".py",
   "mimetype": "text/x-python",
   "name": "python",
   "nbconvert_exporter": "python",
   "pygments_lexer": "ipython3",
   "version": "3.12.4"
  }
 },
 "nbformat": 4,
 "nbformat_minor": 5
}
